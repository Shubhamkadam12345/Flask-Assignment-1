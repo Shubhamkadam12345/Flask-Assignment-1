{
 "cells": [
  {
   "cell_type": "code",
   "execution_count": null,
   "id": "19769aea-c91e-4509-909e-ab826c179ef5",
   "metadata": {},
   "outputs": [],
   "source": [
    "Q.1"
   ]
  },
  {
   "cell_type": "code",
   "execution_count": null,
   "id": "5207f0e5-cc40-4a77-8dce-f16d3903b332",
   "metadata": {},
   "outputs": [],
   "source": [
    "Flask is a micro web framework written in python. It is classified as a microframework\n",
    "because it does not require particular tools ar libararies."
   ]
  },
  {
   "cell_type": "code",
   "execution_count": null,
   "id": "166e106b-dfa5-41b0-b621-55dd0a7547ec",
   "metadata": {},
   "outputs": [],
   "source": [
    "Advantage of Flask Flamework :-"
   ]
  },
  {
   "cell_type": "code",
   "execution_count": null,
   "id": "5b5146b3-aab4-4a3d-b851-a6518ce8a27a",
   "metadata": {},
   "outputs": [],
   "source": [
    "The development process, increasing database experies, shortly the amount of code, making\n",
    "debugging and maintenance eaiser, & stcengthening security."
   ]
  },
  {
   "cell_type": "code",
   "execution_count": null,
   "id": "31044f1f-a951-4956-aa10-1532141ac993",
   "metadata": {},
   "outputs": [],
   "source": [
    "Q.2"
   ]
  },
  {
   "cell_type": "code",
   "execution_count": null,
   "id": "0d16e64a-c87f-4b44-9886-b8f1ee03e5eb",
   "metadata": {},
   "outputs": [],
   "source": [
    "Flask:- Create Application Codeing"
   ]
  },
  {
   "cell_type": "code",
   "execution_count": null,
   "id": "d0532b08-98f4-45ab-a21a-cee815c5e8f1",
   "metadata": {},
   "outputs": [],
   "source": [
    "1)from flask import flask\n",
    "2)\n",
    "3)app= Flask(___name___)\n",
    "4)\n",
    "5)@app.route(\"/\")\n",
    "6) def hello_world():\n",
    "7)          return \"<h1>Hello, World:</h1>\"\n",
    "8)\n",
    "9)if__name__==\"___main___\":\n",
    "10)     app.run ( host=\"0.0.0.0\")"
   ]
  },
  {
   "cell_type": "code",
   "execution_count": null,
   "id": "c5d6f415-6c70-4d53-a6b5-135c483ffb77",
   "metadata": {},
   "outputs": [],
   "source": [
    "Q.3"
   ]
  },
  {
   "cell_type": "code",
   "execution_count": null,
   "id": "74c78974-d956-4f0c-9519-9a8b854ae082",
   "metadata": {},
   "outputs": [],
   "source": [
    "Mapping the URLs to a specifics function that will handle the logic for that URL"
   ]
  },
  {
   "cell_type": "code",
   "execution_count": null,
   "id": "744bd655-e8cd-431b-9d79-e581dded9657",
   "metadata": {},
   "outputs": [],
   "source": [
    " To help users remembers the URLs & make navigation simples."
   ]
  },
  {
   "cell_type": "code",
   "execution_count": null,
   "id": "bd5b6246-3136-4ed0-86ff-b365193f93da",
   "metadata": {},
   "outputs": [],
   "source": [
    "Q.4"
   ]
  },
  {
   "cell_type": "code",
   "execution_count": null,
   "id": "6b5c3859-0150-4c98-af6e-cebe316eb76d",
   "metadata": {},
   "outputs": [],
   "source": [
    "@app. route (:/:)\n",
    "def home ():\n",
    "    return \" welcome to Home page \""
   ]
  },
  {
   "cell_type": "code",
   "execution_count": null,
   "id": "9b3ceb71-c3e9-4d72-bf7a-771785c429ee",
   "metadata": {},
   "outputs": [],
   "source": [
    "@ app route (:/:)\n",
    "def search ():\n",
    "    return \" welcome to dearch page \""
   ]
  },
  {
   "cell_type": "code",
   "execution_count": null,
   "id": "27fc02a8-e441-460d-89e8-8df76e8bef50",
   "metadata": {},
   "outputs": [],
   "source": [
    "@ app.route (\"/mail\")\n",
    "def mail ():\n",
    "    return \" welcome to mail page\"\n",
    "app. run ();"
   ]
  },
  {
   "cell_type": "code",
   "execution_count": null,
   "id": "d2328dde-362a-4ba2-b6f6-896e96891cad",
   "metadata": {},
   "outputs": [],
   "source": [
    "Q.5"
   ]
  },
  {
   "cell_type": "code",
   "execution_count": null,
   "id": "c2d308ab-7d5e-4e7b-b374-a4866b256912",
   "metadata": {},
   "outputs": [],
   "source": [
    "The url__for() function is used to build a URL to the specific function dynamically."
   ]
  },
  {
   "cell_type": "code",
   "execution_count": null,
   "id": "40ba7f1e-4bc6-426f-8c7d-c62fb34a458c",
   "metadata": {},
   "outputs": [],
   "source": [
    "1) from flask import flask, url_for,redirect\n",
    "2)\n",
    "3) app_flask (_name_)\n",
    "4)\n",
    "5)@ app.route (:/:)\n",
    "6) def index ():\n",
    "7)     return \" The index \"\n",
    "8) \n",
    "9) @ app.route (\"/first\")\n",
    "10)def first_route()\"\n",
    "11)    return url__for (Index)\n",
    "12)\n",
    "13)@app.route (\"/second\")\n",
    "14) def second__route()\"\n",
    "15) return redirect__(__url__for('thirt__route; name ='Anthony))"
   ]
  }
 ],
 "metadata": {
  "kernelspec": {
   "display_name": "Python 3 (ipykernel)",
   "language": "python",
   "name": "python3"
  },
  "language_info": {
   "codemirror_mode": {
    "name": "ipython",
    "version": 3
   },
   "file_extension": ".py",
   "mimetype": "text/x-python",
   "name": "python",
   "nbconvert_exporter": "python",
   "pygments_lexer": "ipython3",
   "version": "3.10.8"
  }
 },
 "nbformat": 4,
 "nbformat_minor": 5
}
